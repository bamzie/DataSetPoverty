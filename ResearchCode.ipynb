{
 "cells": [
  {
   "cell_type": "code",
   "execution_count": 74,
   "id": "447a8a52",
   "metadata": {
    "scrolled": false
   },
   "outputs": [],
   "source": [
    "library(dplyr)\n",
    "library(tidyr)\n",
    "\n",
    "df <- read.table(\"county_complete.csv\", sep = ',',header=TRUE)\n",
    "States = c('Alabama', 'Alaska', 'Arizona', 'Arkansas', 'California', 'Colorado', \n",
    "           'Connecticut', 'Delaware', 'District of Columbia', 'Florida', 'Georgia', \n",
    "           'Hawaii', 'Idaho', 'Illinois', 'Indiana', 'Iowa', 'Kansas', 'Kentucky', \n",
    "           'Louisiana', 'Maine', 'Maryland', 'Massachusetts', 'Michigan', 'Minnesota', \n",
    "            'Mississippi', 'Missouri', 'Montana', 'Nebraska', \n",
    "           'Nevada', 'New Hampshire', 'New Jersey', 'New Mexico', 'New York', \n",
    "           'North Carolina', 'North Dakota', 'Ohio', \n",
    "           'Oklahoma', 'Oregon', 'Pennsylvania', 'Rhode Island', \n",
    "           'South Carolina', 'South Dakota', 'Tennessee', 'Texas','Utah', 'Vermont', \n",
    "           'Virginia', 'Washington', 'West Virginia', 'Wisconsin', 'Wyoming')\n"
   ]
  },
  {
   "cell_type": "code",
   "execution_count": 84,
   "id": "0c684dcc",
   "metadata": {},
   "outputs": [
    {
     "name": "stderr",
     "output_type": "stream",
     "text": [
      "Warning message in max(state2019$pop_2019):\n",
      "“no non-missing arguments to max; returning -Inf”Warning message in max(state2017$pop2017):\n",
      "“no non-missing arguments to max; returning -Inf”Warning message in max(state2019$pop_2019):\n",
      "“no non-missing arguments to max; returning -Inf”Warning message in max(state2017$pop2017):\n",
      "“no non-missing arguments to max; returning -Inf”Warning message in max(state2019$pop_2019):\n",
      "“no non-missing arguments to max; returning -Inf”Warning message in max(state2017$pop2017):\n",
      "“no non-missing arguments to max; returning -Inf”Warning message in max(state2019$pop_2019):\n",
      "“no non-missing arguments to max; returning -Inf”Warning message in max(state2017$pop2017):\n",
      "“no non-missing arguments to max; returning -Inf”"
     ]
    },
    {
     "data": {
      "text/html": [
       "<dl class=dl-horizontal>\n",
       "\t<dt>States</dt>\n",
       "\t\t<dd>'Kansas'</dd>\n",
       "\t<dt>pop9</dt>\n",
       "\t\t<dd>'-Inf'</dd>\n",
       "</dl>\n"
      ],
      "text/latex": [
       "\\begin{description*}\n",
       "\\item[States] 'Kansas'\n",
       "\\item[pop9] '-Inf'\n",
       "\\end{description*}\n"
      ],
      "text/markdown": [
       "States\n",
       ":   'Kansas'pop9\n",
       ":   '-Inf'\n",
       "\n"
      ],
      "text/plain": [
       "  States     pop9 \n",
       "\"Kansas\"   \"-Inf\" "
      ]
     },
     "metadata": {},
     "output_type": "display_data"
    }
   ],
   "source": [
    "pop9 = c()\n",
    "pop7 = c()\n",
    "for(s in States){\n",
    "    # Pull out by State\n",
    "    state = filter(df, state == s)\n",
    "    \n",
    "    #Remove NA's in Pop. 2019\n",
    "    state2019 = state[!is.na(state$pop_2019), ]\n",
    "    mx = max(state2019$pop_2019) # Find max Pop. Number\n",
    "    pop9 <- c(pop9, mx) # Append to vector \n",
    "    \n",
    "    # Same as before but for 2017\n",
    "    state2017 = state[!is.na(state$pop2017), ]\n",
    "    mX = max(state2017$pop2017) # Find max Pop. Number\n",
    "    pop7 <- c(pop7, mX) # Append to vector\n",
    "}\n",
    "\n",
    "pop2019 = cbind(States,pop9)\n",
    "pop2017 = cbind(States, pop7)\n",
    "\n",
    "pop2019[17, ] = "
   ]
  },
  {
   "cell_type": "code",
   "execution_count": null,
   "id": "0f3b4add",
   "metadata": {},
   "outputs": [],
   "source": []
  }
 ],
 "metadata": {
  "kernelspec": {
   "display_name": "R",
   "language": "R",
   "name": "ir"
  },
  "language_info": {
   "codemirror_mode": "r",
   "file_extension": ".r",
   "mimetype": "text/x-r-source",
   "name": "R",
   "pygments_lexer": "r",
   "version": "3.6.1"
  }
 },
 "nbformat": 4,
 "nbformat_minor": 5
}
